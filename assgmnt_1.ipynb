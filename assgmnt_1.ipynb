{
  "nbformat": 4,
  "nbformat_minor": 0,
  "metadata": {
    "colab": {
      "name": "assgmnt 1.ipynb",
      "provenance": [],
      "authorship_tag": "ABX9TyOYvk6Sm719WBry8JHLMoqT",
      "include_colab_link": true
    },
    "kernelspec": {
      "name": "python3",
      "display_name": "Python 3"
    },
    "language_info": {
      "name": "python"
    }
  },
  "cells": [
    {
      "cell_type": "markdown",
      "metadata": {
        "id": "view-in-github",
        "colab_type": "text"
      },
      "source": [
        "<a href=\"https://colab.research.google.com/github/gayathrivanaparthy/2216133-aiml-bootcamp/blob/main/assgmnt_1.ipynb\" target=\"_parent\"><img src=\"https://colab.research.google.com/assets/colab-badge.svg\" alt=\"Open In Colab\"/></a>"
      ]
    },
    {
      "cell_type": "markdown",
      "source": [
        "1.Implement the methods of String with examples"
      ],
      "metadata": {
        "id": "Ed1482fLnDLu"
      }
    },
    {
      "cell_type": "code",
      "execution_count": 1,
      "metadata": {
        "colab": {
          "base_uri": "https://localhost:8080/"
        },
        "id": "S4MFjU6Jm7a5",
        "outputId": "d312fa55-cc9e-4940-aa90-bc777e93c8bd"
      },
      "outputs": [
        {
          "output_type": "stream",
          "name": "stdout",
          "text": [
            "KARTHIKA IS A GOOD BOY \n",
            "karthika is a good boy \n",
            "Karthika Is A Good Boy \n",
            "Karthika is a good boy \n",
            "karthik\n",
            "karthikaaaa\n",
            "aaaaakarthik\n",
            "10\n",
            "False\n",
            "False\n"
          ]
        }
      ],
      "source": [
        "str1='karthika is a good boy '\n",
        "print(str1.upper())\n",
        "\n",
        "print(str1.lower())\n",
        "\n",
        "print(str1.title())\n",
        "\n",
        "print(str1.capitalize())\n",
        "\n",
        "#strip\n",
        "s='aaaaakarthikaaaa'\n",
        "print(s.strip('a'))\n",
        "print(s.lstrip('a'))\n",
        "print(s.rstrip('a'))\n",
        "\n",
        "#count\n",
        "print(s.count('a'))\n",
        "\n",
        "\n",
        "k=str1.isalnum()\n",
        "print(k)\n",
        "k=str1.isalpha()\n",
        "print(k)"
      ]
    },
    {
      "cell_type": "markdown",
      "source": [
        "2.Implement the methods of List with examples."
      ],
      "metadata": {
        "id": "YBPwenIfnB8A"
      }
    },
    {
      "cell_type": "code",
      "source": [
        "l=[1,2,3,'karthika','apple']\n",
        "print(l)\n",
        "#methods of adding an elements into the list\n",
        "l.append(2.3)\n",
        "print(l)\n",
        "\n",
        "l.insert(2,9.5)\n",
        "print(l)\n",
        "\n",
        "l.extend([4,5,6])\n",
        "print(l)\n",
        "#Methods to delete the list elements\n",
        "l.pop()\n",
        "print(l)\n",
        "l.pop(0)\n",
        "print(l)\n",
        "l.remove(3)\n",
        "print(l)\n",
        "\n",
        "#reversing\n",
        "l.reverse()\n",
        "print(l)\n",
        "\n",
        "#index\n",
        "print(l.index('karthika'))\n",
        "l.clear()\n",
        "print(l)"
      ],
      "metadata": {
        "colab": {
          "base_uri": "https://localhost:8080/"
        },
        "id": "8MxE6OA6nT03",
        "outputId": "c7e3c743-66d7-4797-c7bf-dbfee6109990"
      },
      "execution_count": 3,
      "outputs": [
        {
          "output_type": "stream",
          "name": "stdout",
          "text": [
            "[1, 2, 3, 'karthika', 'apple']\n",
            "[1, 2, 3, 'karthika', 'apple', 2.3]\n",
            "[1, 2, 9.5, 3, 'karthika', 'apple', 2.3]\n",
            "[1, 2, 9.5, 3, 'karthika', 'apple', 2.3, 4, 5, 6]\n",
            "[1, 2, 9.5, 3, 'karthika', 'apple', 2.3, 4, 5]\n",
            "[2, 9.5, 3, 'karthika', 'apple', 2.3, 4, 5]\n",
            "[2, 9.5, 'karthika', 'apple', 2.3, 4, 5]\n",
            "[5, 4, 2.3, 'apple', 'karthika', 9.5, 2]\n",
            "4\n",
            "[]\n"
          ]
        }
      ]
    },
    {
      "cell_type": "markdown",
      "source": [
        "3.Implement the methods of Tuple with examples"
      ],
      "metadata": {
        "id": "8oEGzXB4nobn"
      }
    },
    {
      "cell_type": "code",
      "source": [
        "t=(1,2,3,'karthika',1,1,2.5)\n",
        "print(t)\n",
        "print('The value 1 is repeated',t.count(1),'times in the tuple')\n",
        "print('The index of value karthika is :',t.index('karthika'))"
      ],
      "metadata": {
        "colab": {
          "base_uri": "https://localhost:8080/"
        },
        "id": "-pc4irOPnurx",
        "outputId": "131dc54c-4fc9-4a98-85b5-a46b3760696e"
      },
      "execution_count": 5,
      "outputs": [
        {
          "output_type": "stream",
          "name": "stdout",
          "text": [
            "(1, 2, 3, 'karthika', 1, 1, 2.5)\n",
            "The value 1 is repeated 3 times in the tuple\n",
            "The index of value karthika is : 3\n"
          ]
        }
      ]
    },
    {
      "cell_type": "markdown",
      "source": [
        "4.Implement the methods of Dictionary with examples."
      ],
      "metadata": {
        "id": "Jyo6hDECn1sy"
      }
    },
    {
      "cell_type": "code",
      "source": [
        "bd={'name':'karthika','age':20,'phnno':9152575367}\n",
        "print(bd)\n",
        "\n",
        "print(bd.keys())\n",
        "\n",
        "print(bd.values())\n",
        "\n",
        "bd.pop('name')\n",
        "print(bd)\n",
        "\n",
        "bd.popitem()\n",
        "print(bd)\n",
        "x=bd.copy()\n",
        "print(x)\n",
        "\n",
        "x.update({'address':'Hyderabad'})\n",
        "print(x)\n",
        "\n",
        "print(x.items())\n",
        "\n",
        "x.clear()\n",
        "print(x)"
      ],
      "metadata": {
        "colab": {
          "base_uri": "https://localhost:8080/"
        },
        "id": "m082CIbRn4Qc",
        "outputId": "439eae82-ab2e-435a-e284-7df2bea907ee"
      },
      "execution_count": 6,
      "outputs": [
        {
          "output_type": "stream",
          "name": "stdout",
          "text": [
            "{'name': 'karthika', 'age': 20, 'phnno': 9152575367}\n",
            "dict_keys(['name', 'age', 'phnno'])\n",
            "dict_values(['karthika', 20, 9152575367])\n",
            "{'age': 20, 'phnno': 9152575367}\n",
            "{'age': 20}\n",
            "{'age': 20}\n",
            "{'age': 20, 'address': 'Hyderabad'}\n",
            "dict_items([('age', 20), ('address', 'Hyderabad')])\n",
            "{}\n"
          ]
        }
      ]
    },
    {
      "cell_type": "markdown",
      "source": [
        "5.Implement the methods of Set with examples."
      ],
      "metadata": {
        "id": "H8ItWsrNoEVg"
      }
    },
    {
      "cell_type": "code",
      "source": [
        "s={1,2,3,'karthika',2.5}\n",
        "p={}\n",
        "print(s)\n",
        "s.add(4)\n",
        "print(s)\n",
        "l=(3,5.6,'karthika')\n",
        "print(s.union(l))\n",
        "\n",
        "print(s.intersection(l))\n",
        "\n",
        "print(s.difference(l))\n",
        "\n",
        "s.remove('karthika')\n",
        "\n",
        "s.update({25,'karthika'})\n",
        "\n",
        "p=s.copy\n",
        "print(p)\n"
      ],
      "metadata": {
        "colab": {
          "base_uri": "https://localhost:8080/"
        },
        "id": "yNQbUqQvoHdl",
        "outputId": "ab93e82f-66ff-4aa3-820f-33724f01b34d"
      },
      "execution_count": 7,
      "outputs": [
        {
          "output_type": "stream",
          "name": "stdout",
          "text": [
            "{1, 2.5, 2, 3, 'karthika'}\n",
            "{1, 2.5, 2, 3, 4, 'karthika'}\n",
            "{1, 2.5, 2, 3, 4, 5.6, 'karthika'}\n",
            "{'karthika', 3}\n",
            "{1, 2.5, 2, 4}\n",
            "<built-in method copy of set object at 0x7f6757d25140>\n"
          ]
        }
      ]
    },
    {
      "cell_type": "markdown",
      "source": [
        "6.Write a python program to convert Decimal to Binary, Octal and Hexadecimal with direct method."
      ],
      "metadata": {
        "id": "YaswaQTBoRcw"
      }
    },
    {
      "cell_type": "code",
      "source": [
        "k=25\n",
        "print(bin(k))\n",
        "print(oct(k))\n",
        "print(hex(k))"
      ],
      "metadata": {
        "colab": {
          "base_uri": "https://localhost:8080/"
        },
        "id": "sSKzQGMVoWhw",
        "outputId": "a7f2c7b0-ecc8-4f7e-a37b-1820f8592dcf"
      },
      "execution_count": 8,
      "outputs": [
        {
          "output_type": "stream",
          "name": "stdout",
          "text": [
            "0b11001\n",
            "0o31\n",
            "0x19\n"
          ]
        }
      ]
    },
    {
      "cell_type": "markdown",
      "source": [
        "7.Implement Arithmetic operators with examples."
      ],
      "metadata": {
        "id": "Ll2mo1Ceoc_i"
      }
    },
    {
      "cell_type": "code",
      "source": [
        "a=int(input('Enter a number'))\n",
        "b=int(input('Enter another number'))\n",
        "#addition\n",
        "print(a+b)\n",
        "#substraction\n",
        "print(a-b)\n",
        "#multiplication\n",
        "print(a*b)\n",
        "#division\n",
        "print(a/b)\n",
        "#floor divisoin\n",
        "print(a//b)\n",
        "#power\n",
        "print(a**5)"
      ],
      "metadata": {
        "colab": {
          "base_uri": "https://localhost:8080/"
        },
        "id": "RguaxKG3oeyt",
        "outputId": "685d483d-249c-4a1c-819c-900915ec1863"
      },
      "execution_count": 9,
      "outputs": [
        {
          "output_type": "stream",
          "name": "stdout",
          "text": [
            "Enter a number2\n",
            "Enter another number4\n",
            "6\n",
            "-2\n",
            "8\n",
            "0.5\n",
            "0\n",
            "32\n"
          ]
        }
      ]
    },
    {
      "cell_type": "markdown",
      "source": [
        "8.Implement Assignment operators with examples."
      ],
      "metadata": {
        "id": "mKQpercNopbu"
      }
    },
    {
      "cell_type": "code",
      "source": [
        "a=10\n",
        "b=35\n",
        "print('a , b')\n",
        "print(a,b)\n",
        "a+=b\n",
        "print(a,b)\n",
        "a-=b\n",
        "print(a,b)\n",
        "a*=b\n",
        "print(a,b)\n",
        "a/=b\n",
        "print(a,b)\n",
        "a//=b\n",
        "print(a,b)\n"
      ],
      "metadata": {
        "colab": {
          "base_uri": "https://localhost:8080/"
        },
        "id": "kyzjgT7-opsn",
        "outputId": "e2785df0-327c-426f-baee-99fadad926b8"
      },
      "execution_count": 10,
      "outputs": [
        {
          "output_type": "stream",
          "name": "stdout",
          "text": [
            "a , b\n",
            "10 35\n",
            "45 35\n",
            "10 35\n",
            "350 35\n",
            "10.0 35\n",
            "0.0 35\n"
          ]
        }
      ]
    },
    {
      "cell_type": "markdown",
      "source": [
        "9.Implement Comparison operators with examples."
      ],
      "metadata": {
        "id": "Bp3CwjI6o2uS"
      }
    },
    {
      "cell_type": "code",
      "source": [
        "a=10\n",
        "b=30\n",
        "print(a>b)\n",
        "print(a<b)\n",
        "print(a>=b)\n",
        "print(a<=b)\n",
        "print(a!=b)"
      ],
      "metadata": {
        "colab": {
          "base_uri": "https://localhost:8080/"
        },
        "id": "uTCDml4Fo27H",
        "outputId": "df30e10f-17c4-4cad-bd67-0eec357aa689"
      },
      "execution_count": 11,
      "outputs": [
        {
          "output_type": "stream",
          "name": "stdout",
          "text": [
            "False\n",
            "True\n",
            "False\n",
            "True\n",
            "True\n"
          ]
        }
      ]
    },
    {
      "cell_type": "markdown",
      "source": [
        "10.Implement Logical operators with examples."
      ],
      "metadata": {
        "id": "tYYyddWRpDF2"
      }
    },
    {
      "cell_type": "code",
      "source": [
        "a,b=10,20\n",
        "print(a>b and b>a)\n",
        "print(a>b or b>a)\n",
        "print(not (a>b))"
      ],
      "metadata": {
        "colab": {
          "base_uri": "https://localhost:8080/"
        },
        "id": "LpLL1xRWpDXC",
        "outputId": "1a7301fe-63a8-4245-ebff-f99aef023ef3"
      },
      "execution_count": 12,
      "outputs": [
        {
          "output_type": "stream",
          "name": "stdout",
          "text": [
            "False\n",
            "True\n",
            "True\n"
          ]
        }
      ]
    },
    {
      "cell_type": "markdown",
      "source": [
        "11.Implement Bitwise operators with examples."
      ],
      "metadata": {
        "id": "xGbcMFulp1V5"
      }
    },
    {
      "cell_type": "code",
      "source": [
        "a=2\n",
        "b=5\n",
        "print(a&b)\n",
        "print(a|b)\n",
        "print(~a)\n",
        "print(a<<2)\n",
        "print(b>>3)"
      ],
      "metadata": {
        "colab": {
          "base_uri": "https://localhost:8080/"
        },
        "id": "CwQ-6t2Lp4sv",
        "outputId": "ee08f8f9-dca9-4b1e-9965-8707f413771a"
      },
      "execution_count": 13,
      "outputs": [
        {
          "output_type": "stream",
          "name": "stdout",
          "text": [
            "0\n",
            "7\n",
            "-3\n",
            "8\n",
            "0\n"
          ]
        }
      ]
    },
    {
      "cell_type": "markdown",
      "source": [
        "12.Implement Membership operators with examples."
      ],
      "metadata": {
        "id": "Xwf8VHMLqAsE"
      }
    },
    {
      "cell_type": "code",
      "source": [
        "s='Gradstellar'\n",
        "print('a' in s)\n",
        "print('c' not in s)"
      ],
      "metadata": {
        "colab": {
          "base_uri": "https://localhost:8080/"
        },
        "id": "RPgB40oaqCYA",
        "outputId": "62268e0a-f018-4f7b-bee9-01ad82d2fa44"
      },
      "execution_count": 14,
      "outputs": [
        {
          "output_type": "stream",
          "name": "stdout",
          "text": [
            "True\n",
            "True\n"
          ]
        }
      ]
    },
    {
      "cell_type": "markdown",
      "source": [
        "13.Implement Identity operators with examples"
      ],
      "metadata": {
        "id": "iMXZL5yRqJLT"
      }
    },
    {
      "cell_type": "code",
      "source": [
        "a=10\n",
        "b=32\n",
        "print(a is b)\n",
        "print(a is not b)"
      ],
      "metadata": {
        "colab": {
          "base_uri": "https://localhost:8080/"
        },
        "id": "XX9GjngZqLE-",
        "outputId": "78aa8ca5-96e0-49f5-f685-e9296081845d"
      },
      "execution_count": 15,
      "outputs": [
        {
          "output_type": "stream",
          "name": "stdout",
          "text": [
            "False\n",
            "True\n"
          ]
        }
      ]
    },
    {
      "cell_type": "markdown",
      "source": [
        "14.Demonstrate Negative indexing for List and apply slicing."
      ],
      "metadata": {
        "id": "fr1Dduo5qSKu"
      }
    },
    {
      "cell_type": "code",
      "source": [
        "l=[1,3,5,4]\n",
        "print(l[-1])\n",
        "print(l[-1::-1])\n",
        "print(l[:])\n",
        "print(l[0:])\n",
        "print(l[1:3:1])\n"
      ],
      "metadata": {
        "colab": {
          "base_uri": "https://localhost:8080/"
        },
        "id": "KGGQ0_ATqTsv",
        "outputId": "f4f294ea-5762-45a4-a1ea-0fbc1e516b2a"
      },
      "execution_count": 17,
      "outputs": [
        {
          "output_type": "stream",
          "name": "stdout",
          "text": [
            "4\n",
            "[4, 5, 3, 1]\n",
            "[1, 3, 5, 4]\n",
            "[1, 3, 5, 4]\n",
            "[3, 5]\n"
          ]
        }
      ]
    },
    {
      "cell_type": "markdown",
      "source": [
        "15.Predict the output for the given code snippet and justify the result."
      ],
      "metadata": {
        "id": "8MUaRy-Eqfi0"
      }
    },
    {
      "cell_type": "code",
      "source": [
        "print('A series of characters designated as one object known as a string'[::-1][5::3])\n",
        "print(\"..............\")\n",
        "print('Welcome to java program'[3:10][::-1])"
      ],
      "metadata": {
        "colab": {
          "base_uri": "https://localhost:8080/"
        },
        "id": "7cSYKHS4qhSw",
        "outputId": "e338c6bd-70d3-4d9c-f2ca-e394e29b8028"
      },
      "execution_count": 18,
      "outputs": [
        {
          "output_type": "stream",
          "name": "stdout",
          "text": [
            "s  o eonsdaidrca  is\n",
            "..............\n",
            "ot emoc\n"
          ]
        }
      ]
    },
    {
      "cell_type": "markdown",
      "source": [
        "16.Write a python code to get desired output, Input string:p_phrase=\"was it a car or a cat I saw\", Output string:WAS I TAC A RO RAC A TI SAW"
      ],
      "metadata": {
        "id": "7JtrlVxiqqBS"
      }
    },
    {
      "cell_type": "code",
      "source": [
        "s=\"was it a car or a cat I saw\"\n",
        "k=s[::-1]\n",
        "print(k.upper())"
      ],
      "metadata": {
        "colab": {
          "base_uri": "https://localhost:8080/"
        },
        "id": "-xNtm9DYq0vB",
        "outputId": "47814fe0-4d79-40cd-9b8b-e2a7ca5331ef"
      },
      "execution_count": 19,
      "outputs": [
        {
          "output_type": "stream",
          "name": "stdout",
          "text": [
            "WAS I TAC A RO RAC A TI SAW\n"
          ]
        }
      ]
    },
    {
      "cell_type": "markdown",
      "source": [
        "17.You are required to generate a word similar to ZOO, X and Y that denote the number of Zs and Os respectively. The generated word similar to ZOO where Y= 2 * X. Input X= 2 Output ZZOOOO Input X= 5 Output ZZZZZOOOOOOOOOO"
      ],
      "metadata": {
        "id": "ktFPqt0Xq75w"
      }
    },
    {
      "cell_type": "code",
      "source": [
        "x='z'\n",
        "y='o'\n",
        "x1=int(input('Enter how many times u want z'))\n",
        "y1=2*x1\n",
        "for i in range(0,x1):\n",
        "  print(x,end='')\n",
        "for i in range(0,y1):\n",
        "  print(y,end='')"
      ],
      "metadata": {
        "colab": {
          "base_uri": "https://localhost:8080/"
        },
        "id": "H3AKOpwzrAL6",
        "outputId": "784d5dff-858e-4ff4-e1f1-f68c6a691a70"
      },
      "execution_count": 21,
      "outputs": [
        {
          "output_type": "stream",
          "name": "stdout",
          "text": [
            "Enter how many times u want z5\n",
            "zzzzzoooooooooo"
          ]
        }
      ]
    }
  ]
}