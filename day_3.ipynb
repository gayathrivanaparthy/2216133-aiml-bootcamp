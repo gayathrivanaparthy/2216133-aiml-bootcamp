{
  "nbformat": 4,
  "nbformat_minor": 0,
  "metadata": {
    "colab": {
      "name": "day_3.ipynb",
      "provenance": [],
      "authorship_tag": "ABX9TyMBKNC8OY11fh6fjLkuec17",
      "include_colab_link": true
    },
    "kernelspec": {
      "name": "python3",
      "display_name": "Python 3"
    },
    "language_info": {
      "name": "python"
    }
  },
  "cells": [
    {
      "cell_type": "markdown",
      "metadata": {
        "id": "view-in-github",
        "colab_type": "text"
      },
      "source": [
        "<a href=\"https://colab.research.google.com/github/gayathrivanaparthy/2216133-aiml-bootcamp/blob/main/day_3.ipynb\" target=\"_parent\"><img src=\"https://colab.research.google.com/assets/colab-badge.svg\" alt=\"Open In Colab\"/></a>"
      ]
    },
    {
      "cell_type": "code",
      "execution_count": 20,
      "metadata": {
        "colab": {
          "base_uri": "https://localhost:8080/"
        },
        "id": "CZhJTVvvdaYx",
        "outputId": "faae1df4-447a-4ff5-8670-db787f771c95"
      },
      "outputs": [
        {
          "output_type": "stream",
          "name": "stdout",
          "text": [
            "Addition of 2 no.s= 9\n",
            "Subraction of 2 no.s= -7\n"
          ]
        }
      ],
      "source": [
        "#class & object\n",
        "class CO:\n",
        "  def subn(self,a,b):\n",
        "    return a-b\n",
        "  def addn(self,a,b):\n",
        "    return a+b\n",
        "obj=CO()\n",
        "print('Addition of 2 no.s=',obj.addn(1,8))\n",
        "print('Subraction of 2 no.s=',obj.subn(1,8))"
      ]
    },
    {
      "cell_type": "code",
      "source": [
        "class cal:\n",
        "  def subn(self,a,b):\n",
        "    return a-b\n",
        "  def addn(self,a,b):\n",
        "    return a+b\n",
        "  def mul(self,a,b):\n",
        "    return a*b\n",
        "  def div(self,a,b):\n",
        "    return a//b\n",
        "  def pow(self,a,b):\n",
        "    return a**b\n",
        "  def mod(self,a,b):\n",
        "    return a%b\n",
        "\n",
        "obj=cal()\n",
        "\n",
        "print('Addition of 2 no.s=',obj.addn(1,8))\n",
        "print('Subraction of 2 no.s=',obj.subn(1,8)) \n",
        "print('MUl of 2 no.s=',obj.mul(1,8))\n",
        "print('Division of 2 no.s=',obj.div(3,2))\n",
        "print('Power=',obj.pow(2,3))\n",
        "print('Modulus of 2 no.s=',obj.mod(1,8))"
      ],
      "metadata": {
        "colab": {
          "base_uri": "https://localhost:8080/"
        },
        "id": "7ibQmADVda7Z",
        "outputId": "87b1bd93-e43f-4420-d2ac-ed981362c626"
      },
      "execution_count": 19,
      "outputs": [
        {
          "output_type": "stream",
          "name": "stdout",
          "text": [
            "Addition of 2 no.s= 9\n",
            "Subraction of 2 no.s= -7\n",
            "MUl of 2 no.s= 8\n",
            "Division of 2 no.s= 1\n",
            "Power= 8\n",
            "Modulus of 2 no.s= 1\n"
          ]
        }
      ]
    },
    {
      "cell_type": "code",
      "source": [
        "class animal:\n",
        "  def animal_sounds(self):\n",
        "    return \"makes spund\"\n",
        "class cat(animal):\n",
        "  def cat_sound(self):\n",
        "    return self.animal_sounds()+\" MEOW\"\n",
        "  def __str__(self):\n",
        "    return \"CAT\"\n",
        "\n",
        "class dog(animal):\n",
        "  def dog_sound(self):\n",
        "    return self.animal_sounds()+\" BOW\"\n",
        "  def __str__(self):\n",
        "    return \"DOG\"  \n",
        "\n",
        "catobj=cat()\n",
        "print(catobj,catobj.cat_sound())\n",
        "dogobj=dog()\n",
        "print(dogobj,dogobj.dog_sound())"
      ],
      "metadata": {
        "colab": {
          "base_uri": "https://localhost:8080/"
        },
        "id": "h_uDycj9dbBm",
        "outputId": "b3080a09-f900-4414-e76c-535bd4aa784c"
      },
      "execution_count": 18,
      "outputs": [
        {
          "output_type": "stream",
          "name": "stdout",
          "text": [
            "CAT makes spund MEOW\n",
            "DOG makes spund BOW\n"
          ]
        }
      ]
    },
    {
      "cell_type": "code",
      "source": [
        "class animal:\n",
        "  def animal_sounds(self):\n",
        "    return \"makes spund\"\n",
        "\n",
        "class cat(animal):\n",
        "  def cat_sound(self):\n",
        "    return self.animal_sounds()+\" MEOW\"\n",
        "class catcolor(cat):\n",
        "    def __str__(self):\n",
        "      return \"CAT\"\n",
        "    def color(self):\n",
        "      return \"Color is BLACK\"\n",
        "\n",
        "class dog(animal):\n",
        "  def dog_sound(self):\n",
        "    return self.animal_sounds()+\" BOW\"\n",
        "  def __str__(self):\n",
        "    return \"DOG\"\n",
        "  def color(self):\n",
        "    return \"Color is WHITE\"\n",
        "class dogcolor(dog):\n",
        "  def animal_sounds(self):\n",
        "    return \"makes spund\"\n",
        "\n",
        "catobj=catcolor()\n",
        "print(catobj,catobj.cat_sound())\n",
        "print(catobj,catobj.color())\n",
        "\n",
        "dogobj=dogcolor()\n",
        "print(dogobj,dogobj.dog_sound())\n",
        "print(dogobj,dogobj.color())"
      ],
      "metadata": {
        "colab": {
          "base_uri": "https://localhost:8080/"
        },
        "id": "KhfPeracdbEd",
        "outputId": "6419e773-eefa-4f56-a7e9-a059c390228a"
      },
      "execution_count": 17,
      "outputs": [
        {
          "output_type": "stream",
          "name": "stdout",
          "text": [
            "CAT makes spund MEOW\n",
            "CAT Color is BLACK\n",
            "DOG makes spund BOW\n",
            "DOG Color is WHITE\n"
          ]
        }
      ]
    },
    {
      "cell_type": "code",
      "source": [
        "#name\n",
        "try:\n",
        "  print(x)\n",
        "except NameError as ne: #NameError = keyword\n",
        "  print(\"Exception occured\",ne)\n",
        "print(\"Executed\")"
      ],
      "metadata": {
        "colab": {
          "base_uri": "https://localhost:8080/"
        },
        "id": "ymRObw01dbHZ",
        "outputId": "fa4cd204-8fdd-4b94-894b-52c2c875ec16"
      },
      "execution_count": 16,
      "outputs": [
        {
          "output_type": "stream",
          "name": "stdout",
          "text": [
            "Exception occured name 'x' is not defined\n",
            "Executed\n"
          ]
        }
      ]
    },
    {
      "cell_type": "code",
      "source": [
        "#value error\n",
        "a='25 xyz'\n",
        "try:\n",
        "  print(int(a))\n",
        "except ValueError as e:\n",
        "  print(e)"
      ],
      "metadata": {
        "colab": {
          "base_uri": "https://localhost:8080/"
        },
        "id": "9yI8pNe2dbKT",
        "outputId": "1eda91dd-1625-42a2-bdce-936db050ec6d"
      },
      "execution_count": 15,
      "outputs": [
        {
          "output_type": "stream",
          "name": "stdout",
          "text": [
            "invalid literal for int() with base 10: '25 xyz'\n"
          ]
        }
      ]
    },
    {
      "cell_type": "code",
      "source": [
        "#2003\n",
        "class INVALIDSTUDENTID(Exception):\n",
        "  pass\n",
        "stid=input(\"Enter student id\")\n",
        "try:\n",
        "  if stid[:4]!='2003':\n",
        "    raise INVALIDSTUDENTID\n",
        "except INVALIDSTUDENTID:\n",
        "  print(\"Error raised due to invalid details\")\n",
        "print(\"Details verified\")"
      ],
      "metadata": {
        "colab": {
          "base_uri": "https://localhost:8080/"
        },
        "id": "bzESen75dbNJ",
        "outputId": "0427e646-66f9-4d1b-af20-bf951c45d241"
      },
      "execution_count": 14,
      "outputs": [
        {
          "output_type": "stream",
          "name": "stdout",
          "text": [
            "Enter student id2005a6172\n",
            "Error raised due to invalid details\n",
            "Details verified\n"
          ]
        }
      ]
    },
    {
      "cell_type": "code",
      "source": [
        "class INVALIDSTUDENTID(Exception):\n",
        "  def __self__(self):\n",
        "    return \"Error Raised\"\n",
        "stid=input(\"Enter student id\")\n",
        "try:\n",
        "  if stid[:4]!='2003':\n",
        "    raise INVALIDSTUDENTID\n",
        "except INVALIDSTUDENTID:\n",
        "  print(\"Invalid\")\n",
        "print(\"Details verified\")"
      ],
      "metadata": {
        "colab": {
          "base_uri": "https://localhost:8080/"
        },
        "id": "nvjp1MjVdbQQ",
        "outputId": "21b29374-9733-420f-95fe-bf6270f22f44"
      },
      "execution_count": 13,
      "outputs": [
        {
          "output_type": "stream",
          "name": "stdout",
          "text": [
            "Enter student id2003a51081\n",
            "Details verified\n"
          ]
        }
      ]
    },
    {
      "cell_type": "code",
      "source": [
        "class NotEligible(Exception):\n",
        "  def __self__(self):\n",
        "    return \"Error raised\"\n",
        "    \n",
        "age=int(input(\"Enter your age: \"))\n",
        "try:\n",
        "  if age<18:\n",
        "    raise NotEligible\n",
        "except NotEligible:\n",
        "  print(\"NOT Eligible for Voting\")"
      ],
      "metadata": {
        "colab": {
          "base_uri": "https://localhost:8080/"
        },
        "id": "hGomFre_dbTD",
        "outputId": "3f4e89b0-aee7-435c-bcb2-a1d7c643b9fa"
      },
      "execution_count": 8,
      "outputs": [
        {
          "output_type": "stream",
          "name": "stdout",
          "text": [
            "Enter your age: 17\n",
            "NOT Eligible for Voting\n"
          ]
        }
      ]
    },
    {
      "cell_type": "code",
      "source": [
        "f=open(\"sample.txt\",\"w\")"
      ],
      "metadata": {
        "id": "J50OUxe8dbWO"
      },
      "execution_count": 9,
      "outputs": []
    },
    {
      "cell_type": "code",
      "source": [
        "f=open(\"sample.txt\",\"w\")\n",
        "f.write(\"WELCOME\")\n",
        "f.close()"
      ],
      "metadata": {
        "id": "zzo4DsDLdbZF"
      },
      "execution_count": 10,
      "outputs": []
    },
    {
      "cell_type": "code",
      "source": [
        "f=open(\"sample.txt\",\"r\")\n",
        "print(f.read())\n",
        "f.close()"
      ],
      "metadata": {
        "colab": {
          "base_uri": "https://localhost:8080/"
        },
        "id": "ijXzS9xBemzT",
        "outputId": "ae4fab4c-dced-4632-efcc-ce771a58fb81"
      },
      "execution_count": 11,
      "outputs": [
        {
          "output_type": "stream",
          "name": "stdout",
          "text": [
            "WELCOME\n"
          ]
        }
      ]
    },
    {
      "cell_type": "code",
      "source": [
        "f1=open(\"sample1.txt\",\"w+\")\n",
        "f1.write(\"123456789\")\n",
        "f1.read()\n",
        "for i in f1:\n",
        "  while(i!=''):\n",
        "    if(i%2!=0):\n",
        "      print(i)\n",
        "\n",
        "f1.close()"
      ],
      "metadata": {
        "id": "JagnNUUvem5n"
      },
      "execution_count": 12,
      "outputs": []
    },
    {
      "cell_type": "code",
      "source": [
        "#pickle\n",
        "#pickling\n",
        "import pickle\n",
        "mylist=['a','b','c','d']\n",
        "f3=open(\"datafile1.txt\",\"wb\")  # with open(\"datafile2.txt\",\"wb\") as f3:\n",
        "pickle.dump(mylist,f3)\n",
        "f3.close()\n",
        "\n",
        "#unpickling\n",
        "import pickle\n",
        "pickle_off=open(\"datafile1.txt\",\"rb\")\n",
        "e=pickle.load(pickle_off)\n",
        "print(e)"
      ],
      "metadata": {
        "colab": {
          "base_uri": "https://localhost:8080/"
        },
        "id": "w5f2BqFXem-5",
        "outputId": "4bc4df90-1dd8-45c1-8eb2-86ce54d1cc45"
      },
      "execution_count": 4,
      "outputs": [
        {
          "output_type": "stream",
          "name": "stdout",
          "text": [
            "['a', 'b', 'c', 'd']\n"
          ]
        }
      ]
    },
    {
      "cell_type": "code",
      "source": [
        "import re\n",
        "pattern=r\"COOKIE\"\n",
        "sequence=(\"COOKIE\")\n",
        "if re.match(pattern,sequence):\n",
        "  print(\"MATCHING\")\n",
        "else:\n",
        "  print(\"NOT MATCHING\")"
      ],
      "metadata": {
        "colab": {
          "base_uri": "https://localhost:8080/"
        },
        "id": "nlw2KKawenCa",
        "outputId": "48386dad-8441-4038-cb90-736d16694435"
      },
      "execution_count": 3,
      "outputs": [
        {
          "output_type": "stream",
          "name": "stdout",
          "text": [
            "MATCHING\n"
          ]
        }
      ]
    },
    {
      "cell_type": "code",
      "source": [
        "import re\n",
        "ph_no=input(\"Enter ur ph_no: \")\n",
        "print(re.search(r'\\d{10}',ph_no).group())"
      ],
      "metadata": {
        "colab": {
          "base_uri": "https://localhost:8080/"
        },
        "id": "hdDVj6Opdbbx",
        "outputId": "a0aca5d5-3e59-4402-de97-7340fe3c1702"
      },
      "execution_count": 2,
      "outputs": [
        {
          "output_type": "stream",
          "name": "stdout",
          "text": [
            "Enter ur ph_no: 9573455243\n",
            "9573455243\n"
          ]
        }
      ]
    },
    {
      "cell_type": "code",
      "source": [
        "import re\n",
        "mail=input(\"Emter mail:\")\n",
        "str1=r'[A-Za-z0-9.-_]+@[A-Za-z0-9.-]+[A-Z|a-z]'\n",
        "print(re.search(str1,mail).group())"
      ],
      "metadata": {
        "colab": {
          "base_uri": "https://localhost:8080/"
        },
        "id": "GG1LRkeWdbe5",
        "outputId": "89b5f1ea-30ec-4578-94a4-1b9ffaf8177b"
      },
      "execution_count": 1,
      "outputs": [
        {
          "output_type": "stream",
          "name": "stdout",
          "text": [
            "Emter mail:aishuaishu0912@gmail.com\n",
            "aishuaishu0912@gmail.com\n"
          ]
        }
      ]
    },
    {
      "cell_type": "code",
      "source": [
        ""
      ],
      "metadata": {
        "id": "PBedtZdadbiA"
      },
      "execution_count": null,
      "outputs": []
    },
    {
      "cell_type": "code",
      "source": [
        ""
      ],
      "metadata": {
        "id": "KxX0PaEqdbk7"
      },
      "execution_count": null,
      "outputs": []
    },
    {
      "cell_type": "code",
      "source": [
        ""
      ],
      "metadata": {
        "id": "7tjmbvJ9dboS"
      },
      "execution_count": null,
      "outputs": []
    }
  ]
}