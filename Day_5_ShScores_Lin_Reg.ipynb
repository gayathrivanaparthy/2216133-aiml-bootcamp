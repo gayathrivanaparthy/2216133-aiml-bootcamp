{
  "nbformat": 4,
  "nbformat_minor": 0,
  "metadata": {
    "colab": {
      "name": "Day_5 ShScores Lin Reg.ipynb",
      "provenance": [],
      "collapsed_sections": [],
      "toc_visible": true,
      "include_colab_link": true
    },
    "kernelspec": {
      "name": "python3",
      "display_name": "Python 3"
    },
    "language_info": {
      "name": "python"
    }
  },
  "cells": [
    {
      "cell_type": "markdown",
      "metadata": {
        "id": "view-in-github",
        "colab_type": "text"
      },
      "source": [
        "<a href=\"https://colab.research.google.com/github/gayathrivanaparthy/2216133-aiml-bootcamp/blob/main/Day_5_ShScores_Lin_Reg.ipynb\" target=\"_parent\"><img src=\"https://colab.research.google.com/assets/colab-badge.svg\" alt=\"Open In Colab\"/></a>"
      ]
    },
    {
      "cell_type": "code",
      "execution_count": null,
      "metadata": {
        "id": "jhGHlleub3Na"
      },
      "outputs": [],
      "source": [
        "#step 1\n",
        "dataset=\"/content/drive/MyDrive/Employee_StudyHours.csv\"\n",
        "import pandas as pd\n",
        "\n",
        "df=pd.read_csv(dataset)  #dataframe -2D"
      ]
    },
    {
      "cell_type": "code",
      "source": [
        "df.shape"
      ],
      "metadata": {
        "colab": {
          "base_uri": "https://localhost:8080/"
        },
        "id": "x7jiYA7OeXJQ",
        "outputId": "c8bbfa4d-e1a9-46e6-f4ca-759b33f3078b"
      },
      "execution_count": null,
      "outputs": [
        {
          "output_type": "execute_result",
          "data": {
            "text/plain": [
              "(32, 2)"
            ]
          },
          "metadata": {},
          "execution_count": 6
        }
      ]
    },
    {
      "cell_type": "code",
      "source": [
        "df.info()"
      ],
      "metadata": {
        "colab": {
          "base_uri": "https://localhost:8080/"
        },
        "id": "10n12GpeebE-",
        "outputId": "26170429-52ac-44c3-e7f6-4bf72cfb15bd"
      },
      "execution_count": null,
      "outputs": [
        {
          "output_type": "stream",
          "name": "stdout",
          "text": [
            "<class 'pandas.core.frame.DataFrame'>\n",
            "RangeIndex: 32 entries, 0 to 31\n",
            "Data columns (total 2 columns):\n",
            " #   Column  Non-Null Count  Dtype  \n",
            "---  ------  --------------  -----  \n",
            " 0   Hours   30 non-null     float64\n",
            " 1   Scores  30 non-null     float64\n",
            "dtypes: float64(2)\n",
            "memory usage: 640.0 bytes\n"
          ]
        }
      ]
    },
    {
      "cell_type": "code",
      "source": [
        "#step 2\n",
        "#visualize the dataset\n",
        "import matplotlib.pyplot as plt   #For graphs\n"
      ],
      "metadata": {
        "id": "bIApsTutebBn"
      },
      "execution_count": null,
      "outputs": []
    },
    {
      "cell_type": "code",
      "source": [
        "plt.scatter(df.Hours,df.Scores,marker='+')\n",
        "plt.xlabel(\"Hours-->\")\n",
        "plt.ylabel(\"Scores-->\")\n",
        "plt.title(\"Employee score analysis\")"
      ],
      "metadata": {
        "colab": {
          "base_uri": "https://localhost:8080/",
          "height": 312
        },
        "id": "cDKYAxESea_T",
        "outputId": "cb56d7e3-0fc7-4e2d-f198-e59121b8bf86"
      },
      "execution_count": null,
      "outputs": [
        {
          "output_type": "execute_result",
          "data": {
            "text/plain": [
              "Text(0.5, 1.0, 'Employee score analysis')"
            ]
          },
          "metadata": {},
          "execution_count": 9
        },
        {
          "output_type": "display_data",
          "data": {
            "text/plain": [
              "<Figure size 432x288 with 1 Axes>"
            ],
            "image/png": "[encoded data removed]"
          },
          "metadata": {
            "needs_background": "light"
          }
        }
      ]
    },
    {
      "cell_type": "code",
      "source": [
        "#seaborn (SuperSet of .matplotlib)\n",
        "import seaborn as sns\n",
        "def get_heatmap(df):\n",
        "  plt.figure(figsize=(6,4))\n",
        "  sns.heatmap(df.isnull(),yticklabels=False,cbar=False, cmap='viridis')  #this func identifies NULL  #viridis is theme\n",
        "  plt.tight_layout()   #optional\n",
        "  return plt.show()\n",
        "\n",
        "get_heatmap(df)\n"
      ],
      "metadata": {
        "colab": {
          "base_uri": "https://localhost:8080/",
          "height": 297
        },
        "id": "xQqjJjP_ea9B",
        "outputId": "49e4679f-9c6d-4a7e-c1df-6b46b727950e"
      },
      "execution_count": null,
      "outputs": [
        {
          "output_type": "display_data",
          "data": {
            "text/plain": [
              "<Figure size 432x288 with 1 Axes>"
            ],
            "image/png": "[encoded data removed]"
          },
          "metadata": {
            "needs_background": "light"
          }
        }
      ]
    },
    {
      "cell_type": "code",
      "source": [
        "#step 3\n",
        "#Preprocessing the dataset\n",
        "\n",
        "#method to drop the rows with NaN values\n",
        "'''df.dropna()\n",
        "df.head()'''\n",
        "\n",
        "#method to replace the data points\n",
        "import math\n",
        "median_hours= math.floor(df.Hours.median())\n",
        "median_hours\n"
      ],
      "metadata": {
        "colab": {
          "base_uri": "https://localhost:8080/"
        },
        "id": "U6HHs1-Lea6W",
        "outputId": "a59f7f5f-616d-41a5-b2ea-36d47241e9c9"
      },
      "execution_count": null,
      "outputs": [
        {
          "output_type": "execute_result",
          "data": {
            "text/plain": [
              "4"
            ]
          },
          "metadata": {},
          "execution_count": 11
        }
      ]
    },
    {
      "cell_type": "code",
      "source": [
        "df.Hours=df.Hours.fillna(median_hours)"
      ],
      "metadata": {
        "id": "dMwguElqk2d_"
      },
      "execution_count": null,
      "outputs": []
    },
    {
      "cell_type": "code",
      "source": [
        "mean_Scores=math.floor(df.Scores.mean())\n",
        "mean_Scores"
      ],
      "metadata": {
        "colab": {
          "base_uri": "https://localhost:8080/"
        },
        "id": "Eqt31SPik2aZ",
        "outputId": "f59e8df8-3485-4dc1-ab8c-3c1531c33e74"
      },
      "execution_count": null,
      "outputs": [
        {
          "output_type": "execute_result",
          "data": {
            "text/plain": [
              "51"
            ]
          },
          "metadata": {},
          "execution_count": 13
        }
      ]
    },
    {
      "cell_type": "code",
      "source": [
        "df.Scores=df.Scores.fillna(mean_Scores)"
      ],
      "metadata": {
        "id": "f3h7JpCGlTig"
      },
      "execution_count": null,
      "outputs": []
    },
    {
      "cell_type": "code",
      "source": [
        "#seaborn (SuperSet of .matplotlib)\n",
        "import seaborn as sns\n",
        "def get_heatmap(df):\n",
        "  plt.figure(figsize=(6,4)) #optional\n",
        "  sns.heatmap(df.isnull(),yticklabels=False,cbar=False, cmap='viridis')  #this func identifies NULL  #viridis is theme\n",
        "  plt.tight_layout()   #optional\n",
        "  return plt.show()\n",
        "\n",
        "get_heatmap(df)\n"
      ],
      "metadata": {
        "colab": {
          "base_uri": "https://localhost:8080/",
          "height": 297
        },
        "id": "FsxXXQbClTe_",
        "outputId": "59e676ba-250a-4428-8a15-38b45d4c8889"
      },
      "execution_count": null,
      "outputs": [
        {
          "output_type": "display_data",
          "data": {
            "text/plain": [
              "<Figure size 432x288 with 1 Axes>"
            ],
            "image/png": "[encoded data removed]"
          },
          "metadata": {
            "needs_background": "light"
          }
        }
      ]
    },
    {
      "cell_type": "markdown",
      "source": [
        "Step 4:Preparing the Data for feeding the model"
      ],
      "metadata": {
        "id": "TdJlelGk3XAD"
      }
    },
    {
      "cell_type": "code",
      "source": [
        "#x--> independent value  - features\n",
        "#y--> dependent value  -  label\n",
        "\n",
        "x=df.iloc[:,:-1].values\n",
        "y=df.iloc[:,-1:].values"
      ],
      "metadata": {
        "id": "77YrROO93V3A"
      },
      "execution_count": null,
      "outputs": []
    },
    {
      "cell_type": "code",
      "source": [
        "import numpy as np\n",
        "x=np.array(df[['Hours']])\n",
        "y=np.array(df[['Scores']])\n",
        "#print(x)\n",
        "#print('\\n')\n",
        "print(y)"
      ],
      "metadata": {
        "id": "31_RbfH9k2SW",
        "colab": {
          "base_uri": "https://localhost:8080/"
        },
        "outputId": "c0b9cad8-34d2-4757-c954-d7c76663689f"
      },
      "execution_count": null,
      "outputs": [
        {
          "output_type": "stream",
          "name": "stdout",
          "text": [
            "[[21.]\n",
            " [47.]\n",
            " [27.]\n",
            " [75.]\n",
            " [30.]\n",
            " [20.]\n",
            " [88.]\n",
            " [60.]\n",
            " [81.]\n",
            " [25.]\n",
            " [85.]\n",
            " [85.]\n",
            " [62.]\n",
            " [41.]\n",
            " [42.]\n",
            " [17.]\n",
            " [95.]\n",
            " [30.]\n",
            " [51.]\n",
            " [24.]\n",
            " [67.]\n",
            " [69.]\n",
            " [30.]\n",
            " [54.]\n",
            " [35.]\n",
            " [76.]\n",
            " [86.]\n",
            " [19.]\n",
            " [30.]\n",
            " [63.]\n",
            " [51.]\n",
            " [60.]]\n"
          ]
        }
      ]
    },
    {
      "cell_type": "markdown",
      "source": [
        "Splitting the dataset into training and testing data"
      ],
      "metadata": {
        "id": "0BmIhCoD8pd2"
      }
    },
    {
      "cell_type": "code",
      "source": [
        "#splitting\n",
        "from sklearn.model_selection import train_test_split\n",
        "x_train,x_test,y_train,y_test=train_test_split(x,y,test_size=0.5,random_state=0)  #random state= shuffles data and splir\n"
      ],
      "metadata": {
        "id": "yYqNIr6qea4H"
      },
      "execution_count": null,
      "outputs": []
    },
    {
      "cell_type": "code",
      "source": [
        "x_train"
      ],
      "metadata": {
        "id": "LnNBjCZukMve",
        "colab": {
          "base_uri": "https://localhost:8080/"
        },
        "outputId": "2c337f93-74df-4ebd-fbed-89267f210e0f"
      },
      "execution_count": null,
      "outputs": [
        {
          "output_type": "execute_result",
          "data": {
            "text/plain": [
              "array([[4.8],\n",
              "       [5.1],\n",
              "       [5.6],\n",
              "       [9.2],\n",
              "       [3.5],\n",
              "       [3.4],\n",
              "       [6.1],\n",
              "       [1.9],\n",
              "       [2.7],\n",
              "       [5.5],\n",
              "       [1.3],\n",
              "       [8.5],\n",
              "       [2.5],\n",
              "       [7.4],\n",
              "       [1.1],\n",
              "       [5.9]])"
            ]
          },
          "metadata": {},
          "execution_count": 19
        }
      ]
    },
    {
      "cell_type": "code",
      "source": [
        "x_test"
      ],
      "metadata": {
        "id": "sW5hB4hEkMr6",
        "colab": {
          "base_uri": "https://localhost:8080/"
        },
        "outputId": "263c8efe-87a9-479a-accc-7ff64c1e29f3"
      },
      "execution_count": null,
      "outputs": [
        {
          "output_type": "execute_result",
          "data": {
            "text/plain": [
              "array([[4. ],\n",
              "       [2.7],\n",
              "       [7.7],\n",
              "       [3.2],\n",
              "       [8.9],\n",
              "       [3.3],\n",
              "       [2.6],\n",
              "       [7.8],\n",
              "       [6.1],\n",
              "       [4.5],\n",
              "       [3.8],\n",
              "       [1.5],\n",
              "       [2.5],\n",
              "       [8.3],\n",
              "       [4. ],\n",
              "       [6.9]])"
            ]
          },
          "metadata": {},
          "execution_count": 20
        }
      ]
    },
    {
      "cell_type": "code",
      "source": [
        "y_train"
      ],
      "metadata": {
        "id": "7fXUFs17kMpn",
        "colab": {
          "base_uri": "https://localhost:8080/"
        },
        "outputId": "813d6485-5a57-4073-ca7a-3d9e35a4d3a3"
      },
      "execution_count": null,
      "outputs": [
        {
          "output_type": "execute_result",
          "data": {
            "text/plain": [
              "array([[54.],\n",
              "       [47.],\n",
              "       [60.],\n",
              "       [88.],\n",
              "       [30.],\n",
              "       [51.],\n",
              "       [63.],\n",
              "       [24.],\n",
              "       [25.],\n",
              "       [60.],\n",
              "       [19.],\n",
              "       [75.],\n",
              "       [21.],\n",
              "       [69.],\n",
              "       [17.],\n",
              "       [62.]])"
            ]
          },
          "metadata": {},
          "execution_count": 21
        }
      ]
    },
    {
      "cell_type": "code",
      "source": [
        "y_test"
      ],
      "metadata": {
        "id": "9TNRE_vUkMnv",
        "colab": {
          "base_uri": "https://localhost:8080/"
        },
        "outputId": "20c193ab-cbd6-403e-bd03-be33257dcaf2"
      },
      "execution_count": null,
      "outputs": [
        {
          "output_type": "execute_result",
          "data": {
            "text/plain": [
              "array([[85.],\n",
              "       [30.],\n",
              "       [85.],\n",
              "       [27.],\n",
              "       [95.],\n",
              "       [42.],\n",
              "       [30.],\n",
              "       [86.],\n",
              "       [67.],\n",
              "       [41.],\n",
              "       [35.],\n",
              "       [20.],\n",
              "       [30.],\n",
              "       [81.],\n",
              "       [51.],\n",
              "       [76.]])"
            ]
          },
          "metadata": {},
          "execution_count": 22
        }
      ]
    },
    {
      "cell_type": "code",
      "source": [
        "#Training Model   -Fitting the Algorithm\n",
        "from sklearn.linear_model import LinearRegression\n",
        "model=LinearRegression()"
      ],
      "metadata": {
        "id": "un8bXn2L-qMd"
      },
      "execution_count": null,
      "outputs": []
    },
    {
      "cell_type": "code",
      "source": [
        "model.fit(x_train,y_train)"
      ],
      "metadata": {
        "id": "bvYtIUh3eWz_",
        "colab": {
          "base_uri": "https://localhost:8080/"
        },
        "outputId": "078c583c-d13e-4189-a276-450abd16acef"
      },
      "execution_count": null,
      "outputs": [
        {
          "output_type": "execute_result",
          "data": {
            "text/plain": [
              "LinearRegression()"
            ]
          },
          "metadata": {},
          "execution_count": 24
        }
      ]
    },
    {
      "cell_type": "code",
      "source": [
        "y_pred=model.predict(x_test)\n",
        "y_pred"
      ],
      "metadata": {
        "colab": {
          "base_uri": "https://localhost:8080/"
        },
        "id": "lHZPzaN8-XnE",
        "outputId": "1636288e-edad-49ac-c1e0-949428931e02"
      },
      "execution_count": null,
      "outputs": [
        {
          "output_type": "execute_result",
          "data": {
            "text/plain": [
              "array([[42.07606843],\n",
              "       [30.71247065],\n",
              "       [74.41861595],\n",
              "       [35.08308518],\n",
              "       [84.90809083],\n",
              "       [35.95720809],\n",
              "       [29.83834774],\n",
              "       [75.29273886],\n",
              "       [60.43264946],\n",
              "       [46.44668296],\n",
              "       [40.32782262],\n",
              "       [20.22299578],\n",
              "       [28.96422484],\n",
              "       [79.66335339],\n",
              "       [42.07606843],\n",
              "       [67.42563271]])"
            ]
          },
          "metadata": {},
          "execution_count": 25
        }
      ]
    },
    {
      "cell_type": "code",
      "source": [
        "y_test"
      ],
      "metadata": {
        "colab": {
          "base_uri": "https://localhost:8080/"
        },
        "id": "tYHEAVW3-Xjg",
        "outputId": "61dcdf05-bcc9-4882-d74c-7f1fa093e9a1"
      },
      "execution_count": null,
      "outputs": [
        {
          "output_type": "execute_result",
          "data": {
            "text/plain": [
              "array([[85.],\n",
              "       [30.],\n",
              "       [85.],\n",
              "       [27.],\n",
              "       [95.],\n",
              "       [42.],\n",
              "       [30.],\n",
              "       [86.],\n",
              "       [67.],\n",
              "       [41.],\n",
              "       [35.],\n",
              "       [20.],\n",
              "       [30.],\n",
              "       [81.],\n",
              "       [51.],\n",
              "       [76.]])"
            ]
          },
          "metadata": {},
          "execution_count": 26
        }
      ]
    },
    {
      "cell_type": "code",
      "source": [
        "print(\"Predicted value for training data:\",model.score(x_train,y_train)*100)"
      ],
      "metadata": {
        "colab": {
          "base_uri": "https://localhost:8080/"
        },
        "id": "9VgKbP8S-Xhp",
        "outputId": "7c8a703f-7c2e-4837-ed03-2ca14b17aab3"
      },
      "execution_count": null,
      "outputs": [
        {
          "output_type": "stream",
          "name": "stdout",
          "text": [
            "Predicted value for training data: 93.2080968030798\n"
          ]
        }
      ]
    },
    {
      "cell_type": "code",
      "source": [
        "print(\"Predicted value for testing data:\",model.score(x_test,y_test))\n",
        "print(\"Testing Accuracy:\",model.score(x_test,y_test)*100)"
      ],
      "metadata": {
        "colab": {
          "base_uri": "https://localhost:8080/"
        },
        "id": "GD2EHkt7-Xfg",
        "outputId": "37b4c8c0-57c5-4aa1-9353-240156c7b094"
      },
      "execution_count": null,
      "outputs": [
        {
          "output_type": "stream",
          "name": "stdout",
          "text": [
            "Predicted value for testing data: 0.7540031072776417\n",
            "Testing Accuracy: 75.40031072776418\n"
          ]
        }
      ]
    },
    {
      "cell_type": "code",
      "source": [
        "accuracy= model.score(x,y)*100\n",
        "print(accuracy)"
      ],
      "metadata": {
        "colab": {
          "base_uri": "https://localhost:8080/"
        },
        "id": "bcVJvOmvEbZL",
        "outputId": "88ebc350-77a4-484c-dddb-3d2eaf2b7aa9"
      },
      "execution_count": null,
      "outputs": [
        {
          "output_type": "stream",
          "name": "stdout",
          "text": [
            "83.29534250612926\n"
          ]
        }
      ]
    },
    {
      "cell_type": "code",
      "source": [
        "model.coef_"
      ],
      "metadata": {
        "colab": {
          "base_uri": "https://localhost:8080/"
        },
        "id": "FaKjxSRwEbVz",
        "outputId": "1c7cb943-425a-4352-af28-0a3b4e7f2e78"
      },
      "execution_count": null,
      "outputs": [
        {
          "output_type": "execute_result",
          "data": {
            "text/plain": [
              "array([[8.74122906]])"
            ]
          },
          "metadata": {},
          "execution_count": 30
        }
      ]
    },
    {
      "cell_type": "code",
      "source": [
        "model.intercept_"
      ],
      "metadata": {
        "colab": {
          "base_uri": "https://localhost:8080/"
        },
        "id": "Nv75qZZSEvrQ",
        "outputId": "ccdeab1f-56fe-47fe-eed1-bbc928ebafe4"
      },
      "execution_count": null,
      "outputs": [
        {
          "output_type": "execute_result",
          "data": {
            "text/plain": [
              "array([7.11115218])"
            ]
          },
          "metadata": {},
          "execution_count": 31
        }
      ]
    },
    {
      "cell_type": "markdown",
      "source": [
        "Visualizing Results"
      ],
      "metadata": {
        "id": "RaN68EBXE-gE"
      }
    },
    {
      "cell_type": "code",
      "source": [
        "#Plotting the Linear Regression\n",
        "line= model.coef_*x+model.intercept_\n",
        "import matplotlib.pyplot as plt\n",
        "plt.scatter(x,y) #for Data points\n",
        "plt.plot(x,line)  # for Best Fit Line\n",
        "plt.show()       # to display"
      ],
      "metadata": {
        "colab": {
          "base_uri": "https://localhost:8080/",
          "height": 265
        },
        "id": "Nzkb0s2mFA5K",
        "outputId": "bea249fd-10cf-4fff-8501-bf909952945a"
      },
      "execution_count": null,
      "outputs": [
        {
          "output_type": "display_data",
          "data": {
            "text/plain": [
              "<Figure size 432x288 with 1 Axes>"
            ],
            "image/png": "[encoded data removed]"
          },
          "metadata": {
            "needs_background": "light"
          }
        }
      ]
    },
    {
      "cell_type": "code",
      "source": [
        "plt.title(\"Hours vs scores (Best Fit Line)\")\n",
        "plt.scatter(x,y,color='Red')   #for Data points\n",
        "plt.plot(x,line,color='Blue')  # for Best Fit Line\n",
        "plt.show()                     # to display"
      ],
      "metadata": {
        "colab": {
          "base_uri": "https://localhost:8080/",
          "height": 281
        },
        "id": "EEYEwTO4Gy0n",
        "outputId": "d5c7d0b2-c016-4e0d-ab82-2e3f7ddd2ab1"
      },
      "execution_count": null,
      "outputs": [
        {
          "output_type": "display_data",
          "data": {
            "text/plain": [
              "<Figure size 432x288 with 1 Axes>"
            ],
            "image/png": "[encoded data removed]"
          },
          "metadata": {
            "needs_background": "light"
          }
        }
      ]
    },
    {
      "cell_type": "code",
      "source": [
        "#testing phase\n",
        "plt.title(\"Hours vs scores (Best Fit Line)\")\n",
        "plt.xlabel('Hours')\n",
        "plt.ylabel('Scores')\n",
        "plt.scatter(x_test,y_test,color='Red')               #for Data points\n",
        "plt.plot(x_test,model.predict(x_test),color='Blue')  # for Best Fit Line\n",
        "plt.show()                                            # to display"
      ],
      "metadata": {
        "colab": {
          "base_uri": "https://localhost:8080/",
          "height": 295
        },
        "id": "Z3n5yqhGFBJ4",
        "outputId": "77a063a6-0c90-4dcc-c405-d813dbf831cc"
      },
      "execution_count": null,
      "outputs": [
        {
          "output_type": "display_data",
          "data": {
            "text/plain": [
              "<Figure size 432x288 with 1 Axes>"
            ],
            "image/png": "[encoded data removed]"
          },
          "metadata": {
            "needs_background": "light"
          }
        }
      ]
    },
    {
      "cell_type": "code",
      "source": [
        "y_test"
      ],
      "metadata": {
        "colab": {
          "base_uri": "https://localhost:8080/"
        },
        "id": "FJhaWlsIVt9-",
        "outputId": "40cca481-0848-48ce-a2f4-f9dc2d70a765"
      },
      "execution_count": null,
      "outputs": [
        {
          "output_type": "execute_result",
          "data": {
            "text/plain": [
              "array([[85.],\n",
              "       [30.],\n",
              "       [85.],\n",
              "       [27.],\n",
              "       [95.],\n",
              "       [42.],\n",
              "       [30.],\n",
              "       [86.],\n",
              "       [67.],\n",
              "       [41.],\n",
              "       [35.],\n",
              "       [20.],\n",
              "       [30.],\n",
              "       [81.],\n",
              "       [51.],\n",
              "       [76.]])"
            ]
          },
          "metadata": {},
          "execution_count": 72
        }
      ]
    },
    {
      "cell_type": "code",
      "source": [
        "y_pred"
      ],
      "metadata": {
        "colab": {
          "base_uri": "https://localhost:8080/"
        },
        "id": "LQZWKWkMVwu_",
        "outputId": "fd9e94b0-1603-4965-e261-7fa5142bc9b6"
      },
      "execution_count": null,
      "outputs": [
        {
          "output_type": "execute_result",
          "data": {
            "text/plain": [
              "array([[42.07606843],\n",
              "       [30.71247065],\n",
              "       [74.41861595],\n",
              "       [35.08308518],\n",
              "       [84.90809083],\n",
              "       [35.95720809],\n",
              "       [29.83834774],\n",
              "       [75.29273886],\n",
              "       [60.43264946],\n",
              "       [46.44668296],\n",
              "       [40.32782262],\n",
              "       [20.22299578],\n",
              "       [28.96422484],\n",
              "       [79.66335339],\n",
              "       [42.07606843],\n",
              "       [67.42563271]])"
            ]
          },
          "metadata": {},
          "execution_count": 73
        }
      ]
    },
    {
      "cell_type": "code",
      "source": [
        "import pandas as pd\n",
        "df=pd.DataFrame({'Actual':[y_test], 'Predicted':[y_pred]})\n",
        "df"
      ],
      "metadata": {
        "id": "yONppSaKFBCo",
        "colab": {
          "base_uri": "https://localhost:8080/",
          "height": 145
        },
        "outputId": "cc8afbe3-8b97-43c8-d67f-5ce39a16fd38"
      },
      "execution_count": null,
      "outputs": [
        {
          "output_type": "execute_result",
          "data": {
            "text/plain": [
              "                                              Actual  \\\n",
              "0  [[85.0], [30.0], [85.0], [27.0], [95.0], [42.0...   \n",
              "\n",
              "                                           Predicted  \n",
              "0  [[42.07606842872692], [30.712470649443112], [7...  "
            ],
            "text/html": [
              "\n",
              "  <div id=\"df-ea2232e6-77ba-45fe-91c7-a92f51ef2cae\">\n",
              "    <div class=\"colab-df-container\">\n",
              "      <div>\n",
              "<style scoped>\n",
              "    .dataframe tbody tr th:only-of-type {\n",
              "        vertical-align: middle;\n",
              "    }\n",
              "\n",
              "    .dataframe tbody tr th {\n",
              "        vertical-align: top;\n",
              "    }\n",
              "\n",
              "    .dataframe thead th {\n",
              "        text-align: right;\n",
              "    }\n",
              "</style>\n",
              "<table border=\"1\" class=\"dataframe\">\n",
              "  <thead>\n",
              "    <tr style=\"text-align: right;\">\n",
              "      <th></th>\n",
              "      <th>Actual</th>\n",
              "      <th>Predicted</th>\n",
              "    </tr>\n",
              "  </thead>\n",
              "  <tbody>\n",
              "    <tr>\n",
              "      <th>0</th>\n",
              "      <td>[[85.0], [30.0], [85.0], [27.0], [95.0], [42.0...</td>\n",
              "      <td>[[42.07606842872692], [30.712470649443112], [7...</td>\n",
              "    </tr>\n",
              "  </tbody>\n",
              "</table>\n",
              "</div>\n",
              "      <button class=\"colab-df-convert\" onclick=\"convertToInteractive('df-ea2232e6-77ba-45fe-91c7-a92f51ef2cae')\"\n",
              "              title=\"Convert this dataframe to an interactive table.\"\n",
              "              style=\"display:none;\">\n",
              "        \n",
              "  <svg xmlns=\"http://www.w3.org/2000/svg\" height=\"24px\"viewBox=\"0 0 24 24\"\n",
              "       width=\"24px\">\n",
              "    <path d=\"M0 0h24v24H0V0z\" fill=\"none\"/>\n",
              "    <path d=\"M18.56 5.44l.94 2.06.94-2.06 2.06-.94-2.06-.94-.94-2.06-.94 2.06-2.06.94zm-11 1L8.5 8.5l.94-2.06 2.06-.94-2.06-.94L8.5 2.5l-.94 2.06-2.06.94zm10 10l.94 2.06.94-2.06 2.06-.94-2.06-.94-.94-2.06-.94 2.06-2.06.94z\"/><path d=\"M17.41 7.96l-1.37-1.37c-.4-.4-.92-.59-1.43-.59-.52 0-1.04.2-1.43.59L10.3 9.45l-7.72 7.72c-.78.78-.78 2.05 0 2.83L4 21.41c.39.39.9.59 1.41.59.51 0 1.02-.2 1.41-.59l7.78-7.78 2.81-2.81c.8-.78.8-2.07 0-2.86zM5.41 20L4 18.59l7.72-7.72 1.47 1.35L5.41 20z\"/>\n",
              "  </svg>\n",
              "      </button>\n",
              "      \n",
              "  <style>\n",
              "    .colab-df-container {\n",
              "      display:flex;\n",
              "      flex-wrap:wrap;\n",
              "      gap: 12px;\n",
              "    }\n",
              "\n",
              "    .colab-df-convert {\n",
              "      background-color: #E8F0FE;\n",
              "      border: none;\n",
              "      border-radius: 50%;\n",
              "      cursor: pointer;\n",
              "      display: none;\n",
              "      fill: #1967D2;\n",
              "      height: 32px;\n",
              "      padding: 0 0 0 0;\n",
              "      width: 32px;\n",
              "    }\n",
              "\n",
              "    .colab-df-convert:hover {\n",
              "      background-color: #E2EBFA;\n",
              "      box-shadow: 0px 1px 2px rgba(60, 64, 67, 0.3), 0px 1px 3px 1px rgba(60, 64, 67, 0.15);\n",
              "      fill: #174EA6;\n",
              "    }\n",
              "\n",
              "    [theme=dark] .colab-df-convert {\n",
              "      background-color: #3B4455;\n",
              "      fill: #D2E3FC;\n",
              "    }\n",
              "\n",
              "    [theme=dark] .colab-df-convert:hover {\n",
              "      background-color: #434B5C;\n",
              "      box-shadow: 0px 1px 3px 1px rgba(0, 0, 0, 0.15);\n",
              "      filter: drop-shadow(0px 1px 2px rgba(0, 0, 0, 0.3));\n",
              "      fill: #FFFFFF;\n",
              "    }\n",
              "  </style>\n",
              "\n",
              "      <script>\n",
              "        const buttonEl =\n",
              "          document.querySelector('#df-ea2232e6-77ba-45fe-91c7-a92f51ef2cae button.colab-df-convert');\n",
              "        buttonEl.style.display =\n",
              "          google.colab.kernel.accessAllowed ? 'block' : 'none';\n",
              "\n",
              "        async function convertToInteractive(key) {\n",
              "          const element = document.querySelector('#df-ea2232e6-77ba-45fe-91c7-a92f51ef2cae');\n",
              "          const dataTable =\n",
              "            await google.colab.kernel.invokeFunction('convertToInteractive',\n",
              "                                                     [key], {});\n",
              "          if (!dataTable) return;\n",
              "\n",
              "          const docLinkHtml = 'Like what you see? Visit the ' +\n",
              "            '<a target=\"_blank\" href=https://colab.research.google.com/notebooks/data_table.ipynb>data table notebook</a>'\n",
              "            + ' to learn more about interactive tables.';\n",
              "          element.innerHTML = '';\n",
              "          dataTable['output_type'] = 'display_data';\n",
              "          await google.colab.output.renderOutput(dataTable, element);\n",
              "          const docLink = document.createElement('div');\n",
              "          docLink.innerHTML = docLinkHtml;\n",
              "          element.appendChild(docLink);\n",
              "        }\n",
              "      </script>\n",
              "    </div>\n",
              "  </div>\n",
              "  "
            ]
          },
          "metadata": {},
          "execution_count": 71
        }
      ]
    },
    {
      "cell_type": "code",
      "source": [
        "from sklearn import metrics\n",
        "print(\"Mean Absolute Error:\",metrics.mean_absolute_error(y_test,y_pred))\n",
        "print(\"Mean Squared Error:\",metrics.mean_squared_error(y_test,y_pred))\n",
        "print(\"Root Mean square Error:\",np.sqrt(metrics.mean_absolute_error(y_test,y_pred)))"
      ],
      "metadata": {
        "colab": {
          "base_uri": "https://localhost:8080/"
        },
        "id": "CXTIMCyQPQDc",
        "outputId": "9f520807-d21d-4245-8800-133105b160b6"
      },
      "execution_count": null,
      "outputs": [
        {
          "output_type": "stream",
          "name": "stdout",
          "text": [
            "Mean Absolute Error: 7.921253653844839\n",
            "Mean Squared Error: 158.15966628931903\n",
            "Root Mean square Error: 2.8144721803288157\n"
          ]
        }
      ]
    },
    {
      "cell_type": "code",
      "source": [
        ""
      ],
      "metadata": {
        "id": "yEdvY_HaFA_M"
      },
      "execution_count": null,
      "outputs": []
    },
    {
      "cell_type": "code",
      "source": [
        ""
      ],
      "metadata": {
        "id": "qv6MO_MdEbTy"
      },
      "execution_count": null,
      "outputs": []
    }
  ]
}