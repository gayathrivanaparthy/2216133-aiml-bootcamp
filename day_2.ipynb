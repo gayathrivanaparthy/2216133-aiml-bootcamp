{
  "nbformat": 4,
  "nbformat_minor": 0,
  "metadata": {
    "colab": {
      "name": "day_2.ipynb",
      "provenance": [],
      "authorship_tag": "ABX9TyNWqJXMiFAmrWjB2iOSxs/C",
      "include_colab_link": true
    },
    "kernelspec": {
      "name": "python3",
      "display_name": "Python 3"
    },
    "language_info": {
      "name": "python"
    }
  },
  "cells": [
    {
      "cell_type": "markdown",
      "metadata": {
        "id": "view-in-github",
        "colab_type": "text"
      },
      "source": [
        "<a href=\"https://colab.research.google.com/github/gayathrivanaparthy/2216133-aiml-bootcamp/blob/main/day_2.ipynb\" target=\"_parent\"><img src=\"https://colab.research.google.com/assets/colab-badge.svg\" alt=\"Open In Colab\"/></a>"
      ]
    },
    {
      "cell_type": "code",
      "execution_count": 1,
      "metadata": {
        "colab": {
          "base_uri": "https://localhost:8080/"
        },
        "id": "-wqCDZ2SsgXa",
        "outputId": "d0fa12a9-0244-42a8-ecd3-7f75d83769ff"
      },
      "outputs": [
        {
          "output_type": "stream",
          "name": "stdout",
          "text": [
            "[17, 15, 4]\n",
            "[5, 6, 6]\n",
            "[12, 11, 16]\n"
          ]
        }
      ],
      "source": [
        "#nested loops\n",
        "\n",
        "x=[[12,7,3],\n",
        "  [4,5,6],\n",
        "  [7,8,9]]\n",
        "\n",
        "y=[[5,8,1],\n",
        "   [1,1,0],\n",
        "   [5,3,7]]\n",
        "\n",
        "res=[[0,0,0],[0,0,0],[0,0,0]]\n",
        "\n",
        "for i in range(len(x)):\n",
        "    for j in range(len(x[0])):\n",
        "        res[i][j]=x[i][j]+y[i][j]\n",
        "for r in res:\n",
        "    print(r)"
      ]
    },
    {
      "cell_type": "code",
      "source": [
        "#Printing upto n tables\n",
        "num=int(input(\"Enter the last table u want:\"))\n",
        "i=1\n",
        "while(i<=num):\n",
        "    print(f\"TABLE {i}\") #raw string\n",
        "    j=1\n",
        "    while(j<=10):\n",
        "        print(f\"{i}*{j}={i*j}\")\n",
        "        j=j+1\n",
        "    print(\"----------------------\")\n",
        "    i+=1"
      ],
      "metadata": {
        "colab": {
          "base_uri": "https://localhost:8080/"
        },
        "id": "uIwBVT8zs6vb",
        "outputId": "322388db-9293-4c52-9672-97be981e047a"
      },
      "execution_count": 2,
      "outputs": [
        {
          "output_type": "stream",
          "name": "stdout",
          "text": [
            "Enter the last table u want:6\n",
            "TABLE 1\n",
            "1*1=1\n",
            "1*2=2\n",
            "1*3=3\n",
            "1*4=4\n",
            "1*5=5\n",
            "1*6=6\n",
            "1*7=7\n",
            "1*8=8\n",
            "1*9=9\n",
            "1*10=10\n",
            "----------------------\n",
            "TABLE 2\n",
            "2*1=2\n",
            "2*2=4\n",
            "2*3=6\n",
            "2*4=8\n",
            "2*5=10\n",
            "2*6=12\n",
            "2*7=14\n",
            "2*8=16\n",
            "2*9=18\n",
            "2*10=20\n",
            "----------------------\n",
            "TABLE 3\n",
            "3*1=3\n",
            "3*2=6\n",
            "3*3=9\n",
            "3*4=12\n",
            "3*5=15\n",
            "3*6=18\n",
            "3*7=21\n",
            "3*8=24\n",
            "3*9=27\n",
            "3*10=30\n",
            "----------------------\n",
            "TABLE 4\n",
            "4*1=4\n",
            "4*2=8\n",
            "4*3=12\n",
            "4*4=16\n",
            "4*5=20\n",
            "4*6=24\n",
            "4*7=28\n",
            "4*8=32\n",
            "4*9=36\n",
            "4*10=40\n",
            "----------------------\n",
            "TABLE 5\n",
            "5*1=5\n",
            "5*2=10\n",
            "5*3=15\n",
            "5*4=20\n",
            "5*5=25\n",
            "5*6=30\n",
            "5*7=35\n",
            "5*8=40\n",
            "5*9=45\n",
            "5*10=50\n",
            "----------------------\n",
            "TABLE 6\n",
            "6*1=6\n",
            "6*2=12\n",
            "6*3=18\n",
            "6*4=24\n",
            "6*5=30\n",
            "6*6=36\n",
            "6*7=42\n",
            "6*8=48\n",
            "6*9=54\n",
            "6*10=60\n",
            "----------------------\n"
          ]
        }
      ]
    },
    {
      "cell_type": "code",
      "source": [
        "#Control stmts\n",
        "#break\n",
        "\n",
        "for l in 'python':\n",
        "    if l =='h':\n",
        "        break\n",
        "    print(\"Current letter:\",l)\n",
        "print(\"\\n\")\n",
        "\n",
        "#continue\n",
        "int1=10\n",
        "while(int1>0):\n",
        "    print(\"Current value:\",int1)\n",
        "    int1-=1\n",
        "    if int1==5:\n",
        "        continue\n",
        "print(\"\\n\")"
      ],
      "metadata": {
        "colab": {
          "base_uri": "https://localhost:8080/"
        },
        "id": "TyeUybRktCS8",
        "outputId": "7a868519-6446-4a8e-d3fe-d07145ace2b5"
      },
      "execution_count": 3,
      "outputs": [
        {
          "output_type": "stream",
          "name": "stdout",
          "text": [
            "Current letter: p\n",
            "Current letter: y\n",
            "Current letter: t\n",
            "\n",
            "\n",
            "Current value: 10\n",
            "Current value: 9\n",
            "Current value: 8\n",
            "Current value: 7\n",
            "Current value: 6\n",
            "Current value: 5\n",
            "Current value: 4\n",
            "Current value: 3\n",
            "Current value: 2\n",
            "Current value: 1\n",
            "\n",
            "\n"
          ]
        }
      ]
    },
    {
      "cell_type": "code",
      "source": [
        "#Control stmts\n",
        "#break\n",
        "\n",
        "for l in 'python':\n",
        "    if l =='h':\n",
        "        pass\n",
        "        print(\"This is pass block\")\n",
        "    print(l)\n",
        "print(\"\\n\")\n",
        "\n",
        "int1=10\n",
        "while(int1>0):\n",
        "    print(\"Current value:\",int1)\n",
        "    int1-=1\n",
        "    if int1==5:\n",
        "        continue\n",
        "print(\"\\n\")"
      ],
      "metadata": {
        "colab": {
          "base_uri": "https://localhost:8080/"
        },
        "id": "cot3CWgCtPFT",
        "outputId": "8ea2e5fa-8e83-4c9c-e40b-d0d55812e719"
      },
      "execution_count": 4,
      "outputs": [
        {
          "output_type": "stream",
          "name": "stdout",
          "text": [
            "p\n",
            "y\n",
            "t\n",
            "This is pass block\n",
            "h\n",
            "o\n",
            "n\n",
            "\n",
            "\n",
            "Current value: 10\n",
            "Current value: 9\n",
            "Current value: 8\n",
            "Current value: 7\n",
            "Current value: 6\n",
            "Current value: 5\n",
            "Current value: 4\n",
            "Current value: 3\n",
            "Current value: 2\n",
            "Current value: 1\n",
            "\n",
            "\n"
          ]
        }
      ]
    },
    {
      "cell_type": "code",
      "source": [
        "n=input(\"Enter the number:\")\n",
        "m=n[::-1]\n",
        "if(n==m):\n",
        "    print(\"Its Palindrome\")\n",
        "else:\n",
        "    print(\"Not a palindrome\")"
      ],
      "metadata": {
        "colab": {
          "base_uri": "https://localhost:8080/"
        },
        "id": "ono33Aw5tbXa",
        "outputId": "3259e7b4-067b-41a8-8ac3-d0053ef12491"
      },
      "execution_count": 5,
      "outputs": [
        {
          "output_type": "stream",
          "name": "stdout",
          "text": [
            "Enter the number:151\n",
            "Its Palindrome\n"
          ]
        }
      ]
    },
    {
      "cell_type": "code",
      "source": [
        "for n in range(100):\n",
        "    m=str(n)\n",
        "    if(m==m[::-1]):\n",
        "        print(n,\"=Palindrome\")"
      ],
      "metadata": {
        "colab": {
          "base_uri": "https://localhost:8080/"
        },
        "id": "ENd-anuWtgoK",
        "outputId": "d754a1b2-3ff7-4006-b0d3-546c5e2280bf"
      },
      "execution_count": 6,
      "outputs": [
        {
          "output_type": "stream",
          "name": "stdout",
          "text": [
            "0 =Palindrome\n",
            "1 =Palindrome\n",
            "2 =Palindrome\n",
            "3 =Palindrome\n",
            "4 =Palindrome\n",
            "5 =Palindrome\n",
            "6 =Palindrome\n",
            "7 =Palindrome\n",
            "8 =Palindrome\n",
            "9 =Palindrome\n",
            "11 =Palindrome\n",
            "22 =Palindrome\n",
            "33 =Palindrome\n",
            "44 =Palindrome\n",
            "55 =Palindrome\n",
            "66 =Palindrome\n",
            "77 =Palindrome\n",
            "88 =Palindrome\n",
            "99 =Palindrome\n"
          ]
        }
      ]
    },
    {
      "cell_type": "code",
      "source": [
        "l=[1,2,3,4,5,6,7,8,9,10]\n",
        "e=[]\n",
        "o=[]\n",
        "for i in range(len(l)):\n",
        "    if i%2==0:\n",
        "        e.append(i)\n",
        "    else:\n",
        "        o.append(i)\n",
        "print(e)\n",
        "print(o)"
      ],
      "metadata": {
        "colab": {
          "base_uri": "https://localhost:8080/"
        },
        "id": "blXPiHB0tixA",
        "outputId": "b9b3e0d3-cfc0-4a8d-de31-6ae2ea090d01"
      },
      "execution_count": 7,
      "outputs": [
        {
          "output_type": "stream",
          "name": "stdout",
          "text": [
            "[0, 2, 4, 6, 8]\n",
            "[1, 3, 5, 7, 9]\n"
          ]
        }
      ]
    },
    {
      "cell_type": "code",
      "source": [
        "'''Write a python program that generates desired output i.e,\n",
        "from countries list select out the country names that contain\n",
        "string “and”\n",
        "\n",
        "Countries_list=[“Finland”,”Germany”,”Sweden”,”Ireland”,”Turkey”]\n",
        "Output: [“Finland”,”Ireland”]'''\n",
        "\n",
        "c=[\"Finland\",\"Germany\",\"Sweden\",\"Ireland\",\"Turkey\"]\n",
        "output=[]\n",
        "for i in c:\n",
        "    if 'and' in i:\n",
        "        output.append(i)\n",
        "print(output)"
      ],
      "metadata": {
        "colab": {
          "base_uri": "https://localhost:8080/"
        },
        "id": "9sD5rDBHtr7M",
        "outputId": "a75d035f-32fb-4112-c1f0-9632a899bb19"
      },
      "execution_count": 9,
      "outputs": [
        {
          "output_type": "stream",
          "name": "stdout",
          "text": [
            "['Finland', 'Ireland']\n"
          ]
        }
      ]
    },
    {
      "cell_type": "code",
      "source": [
        "'''Write a python program that print respective grades of student:\n",
        "Grade – Outstanding  for marks>=90\n",
        "Grade A+ for marks >=80, <90\n",
        "Grade A for marks >=70, <80\n",
        "Grade B for marks >=60 and <70\n",
        "\n",
        "<60 Grade C'''\n",
        "\n",
        "marks=int(input(\"Enter your marks\"))\n",
        "if marks >=90 and marks<=100:\n",
        "    print(\"Grade=O\")\n",
        "elif marks >=80 and marks<90:\n",
        "    print(\"Grade=A+\")\n",
        "elif marks >=70 and marks<80:\n",
        "    print(\"Grade=A\")\n",
        "elif marks >=60 and marks<70:\n",
        "    print(\"Grade=B\")\n",
        "elif marks<60:\n",
        "    print(\"Grade=C\")\n",
        "else:\n",
        "    print(\"Enter valid marks\")"
      ],
      "metadata": {
        "colab": {
          "base_uri": "https://localhost:8080/"
        },
        "id": "tLeWazF2t4rf",
        "outputId": "1cea394f-145e-4576-c7ff-f0672f855bd7"
      },
      "execution_count": 10,
      "outputs": [
        {
          "output_type": "stream",
          "name": "stdout",
          "text": [
            "Enter your marks55\n",
            "Grade=C\n"
          ]
        }
      ]
    },
    {
      "cell_type": "code",
      "source": [
        "'''Create a list with name state list with 5 elements\n",
        "State_list = [“Delhi”,”Telangana”,”Goa”,”AP”,”Kerala”]\n",
        "Write a python program that extract first and last characters of each item and print in desired format.\n",
        "Input: [“Delhi”,”Telangana”,”Goa”,”AP”,”Kerala”\n",
        "Output: dItAgAaOkA '''\n",
        "\n",
        "inp=[\"Delhi\",\"Telangana\",\"Goa\",\"AP\",\"Kerala\"]\n",
        "out=[]\n",
        "for s in inp:\n",
        "    out.append(s[0])\n",
        "    out.append(s[len(s)-1])\n",
        "print(out)\n",
        "str=\"\".join(out)\n",
        "#print(str)\n",
        "print(str.swapcase())"
      ],
      "metadata": {
        "colab": {
          "base_uri": "https://localhost:8080/"
        },
        "id": "sYHci8FMt_cU",
        "outputId": "290f48a2-b47a-463b-fe23-d64818d4999b"
      },
      "execution_count": 11,
      "outputs": [
        {
          "output_type": "stream",
          "name": "stdout",
          "text": [
            "['D', 'i', 'T', 'a', 'G', 'a', 'A', 'P', 'K', 'a']\n",
            "dItAgAapkA\n"
          ]
        }
      ]
    },
    {
      "cell_type": "code",
      "source": [
        "'''Create a list with name state list with 5 elements\n",
        "State_list = [“Delhi”,”Telangana”,”Goa”,”AP”,”Kerala”]\n",
        "Write a python program that extract first and last characters of each item and print in desired format.\n",
        "Input: [“Delhi”,”Telangana”,”Goa”,”AP”,”Kerala”\n",
        "Output: dItAgAaOkA '''\n",
        "\n",
        "inp=[\"Delhi\",\"Telangana\",\"Goa\",\"AP\",\"Kerala\"]\n",
        "str=\"\"\n",
        "for i in inp:\n",
        "    str+=i[0].swapcase()+i[-1].swapcase()\n",
        "print(str)"
      ],
      "metadata": {
        "colab": {
          "base_uri": "https://localhost:8080/"
        },
        "id": "kIEcfOtquE7O",
        "outputId": "6a1e85f4-f8c8-41f0-de1c-69e8370d0be3"
      },
      "execution_count": 12,
      "outputs": [
        {
          "output_type": "stream",
          "name": "stdout",
          "text": [
            "dItAgAapkA\n"
          ]
        }
      ]
    },
    {
      "cell_type": "code",
      "source": [
        "def greet(name):\n",
        "    print(f\"Hello,\\t {name} \\tGM\")\n",
        "greet(\"aishu\")"
      ],
      "metadata": {
        "colab": {
          "base_uri": "https://localhost:8080/"
        },
        "id": "7J_Ei83GuJPx",
        "outputId": "2c23a95c-4f54-4a90-bebb-bb4eadf99fe2"
      },
      "execution_count": 13,
      "outputs": [
        {
          "output_type": "stream",
          "name": "stdout",
          "text": [
            "Hello,\t aishu \tGM\n"
          ]
        }
      ]
    },
    {
      "cell_type": "code",
      "source": [
        "#arbitrary keyword\n",
        "def key_arg(**kwargs):\n",
        "    return kwargs\n",
        "my_dict=key_arg(apples=10,oranges=20,bananas=30)\n",
        "print(my_dict)"
      ],
      "metadata": {
        "colab": {
          "base_uri": "https://localhost:8080/"
        },
        "id": "4eWeqXj6uO8X",
        "outputId": "d2d4b9d4-e35b-41f1-f646-98f2b1f8f995"
      },
      "execution_count": 14,
      "outputs": [
        {
          "output_type": "stream",
          "name": "stdout",
          "text": [
            "{'apples': 10, 'oranges': 20, 'bananas': 30}\n"
          ]
        }
      ]
    },
    {
      "cell_type": "code",
      "source": [
        "#lambda\n",
        "\n",
        "res=lambda x:x+1\n",
        "print(res(4))\n",
        "\n",
        "print((lambda x,y:x**y)(2,3))"
      ],
      "metadata": {
        "colab": {
          "base_uri": "https://localhost:8080/"
        },
        "id": "GcMwnAftupsF",
        "outputId": "ac884f86-3cee-4a11-8eec-ed96bb6c1188"
      },
      "execution_count": 15,
      "outputs": [
        {
          "output_type": "stream",
          "name": "stdout",
          "text": [
            "5\n",
            "8\n"
          ]
        }
      ]
    },
    {
      "cell_type": "code",
      "source": [
        "def inc(num):\n",
        "    return num+2\n",
        "res_list=list(map(inc,li))\n",
        "print(res_list)\n",
        "\n",
        "res_list1=list(map(lambda x:x+2,li))\n",
        "print(res_list1)\n",
        "\n",
        "print(list(map(lambda x:x+2,li)))"
      ],
      "metadata": {
        "colab": {
          "base_uri": "https://localhost:8080/"
        },
        "id": "D-Mc_nCUuwoq",
        "outputId": "aa0b793b-a032-4981-b5b4-0e99f4d2a2fc"
      },
      "execution_count": 17,
      "outputs": [
        {
          "output_type": "stream",
          "name": "stdout",
          "text": [
            "[3, 4, 5, 6, 7]\n",
            "[3, 4, 5, 6, 7]\n",
            "[3, 4, 5, 6, 7]\n"
          ]
        }
      ]
    },
    {
      "cell_type": "code",
      "source": [
        "li=[1,2,3,4,5,6,7,8,9,10]\n",
        "print(list(map(lambda x:x%2==0,li)))\n",
        "print(list(map(lambda x:x%2==1,li)))"
      ],
      "metadata": {
        "colab": {
          "base_uri": "https://localhost:8080/"
        },
        "id": "h9nG1uDDvAAD",
        "outputId": "6a2e82a2-aa6b-4ce3-bfed-5b493f8e3df4"
      },
      "execution_count": 18,
      "outputs": [
        {
          "output_type": "stream",
          "name": "stdout",
          "text": [
            "[False, True, False, True, False, True, False, True, False, True]\n",
            "[True, False, True, False, True, False, True, False, True, False]\n"
          ]
        }
      ]
    },
    {
      "cell_type": "code",
      "source": [
        "li=['apple','banana','grapes']\n",
        "list(map(lambda x:x.capitalize(),li)) # or titile()"
      ],
      "metadata": {
        "colab": {
          "base_uri": "https://localhost:8080/"
        },
        "id": "IvxYpzWyvAOP",
        "outputId": "9fcefe8b-2e01-478d-ae34-cd5f353efa3c"
      },
      "execution_count": 19,
      "outputs": [
        {
          "output_type": "execute_result",
          "data": {
            "text/plain": [
              "['Apple', 'Banana', 'Grapes']"
            ]
          },
          "metadata": {},
          "execution_count": 19
        }
      ]
    },
    {
      "cell_type": "code",
      "source": [
        "#filter\n",
        "\n",
        "def odd_num(n):\n",
        "    if n%2!=0:\n",
        "        return n\n",
        "my_list=[9,26,35,-2,-1,0]\n",
        "list(filter(odd_num,my_list))\n",
        "\n",
        "my_list=[12,34,71,91,83,22,34,99,100]\n",
        "temp=list(filter(lambda x:x%2==0,my_list))\n",
        "print(temp)"
      ],
      "metadata": {
        "colab": {
          "base_uri": "https://localhost:8080/"
        },
        "id": "IGQQ9hR3vAY_",
        "outputId": "c113ab76-441c-427c-8bb7-8bd880c2544e"
      },
      "execution_count": 20,
      "outputs": [
        {
          "output_type": "stream",
          "name": "stdout",
          "text": [
            "[12, 34, 22, 34, 100]\n"
          ]
        }
      ]
    },
    {
      "cell_type": "code",
      "source": [
        "# math module\n",
        "import math as m\n",
        "print(m.pi)\n",
        "print(m.e)\n",
        "print(m.sqrt(3))\n",
        "print(m.floor(7.1))\n",
        "print(m.ceil(7.1))"
      ],
      "metadata": {
        "colab": {
          "base_uri": "https://localhost:8080/"
        },
        "id": "kvXc67W5vAkm",
        "outputId": "7a7a443d-1308-4a49-f110-4b74c732e646"
      },
      "execution_count": 22,
      "outputs": [
        {
          "output_type": "stream",
          "name": "stdout",
          "text": [
            "3.141592653589793\n",
            "2.718281828459045\n",
            "1.7320508075688772\n",
            "7\n",
            "8\n"
          ]
        }
      ]
    },
    {
      "cell_type": "code",
      "source": [
        "#sys module\n",
        "import sys\n",
        "print(sys.path)\n",
        "print(sys.version)\n",
        "print(sys.maxsize)"
      ],
      "metadata": {
        "colab": {
          "base_uri": "https://localhost:8080/"
        },
        "id": "tCIKWAenvaVu",
        "outputId": "9c731938-5020-453f-bce9-86ede0f8fe2b"
      },
      "execution_count": 23,
      "outputs": [
        {
          "output_type": "stream",
          "name": "stdout",
          "text": [
            "['', '/content', '/env/python', '/usr/lib/python37.zip', '/usr/lib/python3.7', '/usr/lib/python3.7/lib-dynload', '/usr/local/lib/python3.7/dist-packages', '/usr/lib/python3/dist-packages', '/usr/local/lib/python3.7/dist-packages/IPython/extensions', '/root/.ipython']\n",
            "3.7.13 (default, Apr 24 2022, 01:04:09) \n",
            "[GCC 7.5.0]\n",
            "9223372036854775807\n"
          ]
        }
      ]
    },
    {
      "cell_type": "code",
      "source": [
        "import statistics as st\n",
        "print(st.mean([1,2,3,4,5]))\n",
        "print(st.median([1,2,3,4,5]))\n",
        "print(st.mode([1,2,3,4,5,1]))"
      ],
      "metadata": {
        "colab": {
          "base_uri": "https://localhost:8080/"
        },
        "id": "Y30c7hOXvaYY",
        "outputId": "abf07384-d9b0-4be3-c0a0-5384e25fd6ac"
      },
      "execution_count": 24,
      "outputs": [
        {
          "output_type": "stream",
          "name": "stdout",
          "text": [
            "3\n",
            "3\n",
            "1\n"
          ]
        }
      ]
    },
    {
      "cell_type": "code",
      "source": [
        "#time module\n",
        "import time\n",
        "print(time.time())\n",
        "print(time.localtime())\n",
        "print(time.asctime())\n",
        "print(time.ctime())\n",
        "print(time.sleep(1.5))"
      ],
      "metadata": {
        "colab": {
          "base_uri": "https://localhost:8080/"
        },
        "id": "N27OxQ-5vaa-",
        "outputId": "07b83392-da87-4e34-bae8-1c4c36a164cb"
      },
      "execution_count": 25,
      "outputs": [
        {
          "output_type": "stream",
          "name": "stdout",
          "text": [
            "1655269401.4846845\n",
            "time.struct_time(tm_year=2022, tm_mon=6, tm_mday=15, tm_hour=5, tm_min=3, tm_sec=21, tm_wday=2, tm_yday=166, tm_isdst=0)\n",
            "Wed Jun 15 05:03:21 2022\n",
            "Wed Jun 15 05:03:21 2022\n",
            "None\n"
          ]
        }
      ]
    },
    {
      "cell_type": "code",
      "source": [
        "#random module\n",
        "import random\n",
        "print(random.randrange(1,50))\n",
        "print(random.randint(1,50))\n",
        "print(random.random())"
      ],
      "metadata": {
        "colab": {
          "base_uri": "https://localhost:8080/"
        },
        "id": "LmPurbGGvadX",
        "outputId": "72e67f62-ac9e-4905-f0df-c49fd0e8cd01"
      },
      "execution_count": 26,
      "outputs": [
        {
          "output_type": "stream",
          "name": "stdout",
          "text": [
            "23\n",
            "9\n",
            "0.9314725111326335\n"
          ]
        }
      ]
    },
    {
      "cell_type": "code",
      "source": [
        "#Game with random module\n",
        "\n",
        "import random\n",
        "g_num=random.randint(0,5)\n",
        "g2_num=int(input(\"Guess...!\"))\n",
        "if g2_num==g_num:\n",
        "    print(\"Hurrah...!\")\n",
        "else:\n",
        "    print(\"LOST\")"
      ],
      "metadata": {
        "colab": {
          "base_uri": "https://localhost:8080/"
        },
        "id": "JetwxACmvagq",
        "outputId": "78178331-b65c-4483-ccef-429741d7e432"
      },
      "execution_count": 27,
      "outputs": [
        {
          "output_type": "stream",
          "name": "stdout",
          "text": [
            "Guess...!4\n",
            "LOST\n"
          ]
        }
      ]
    },
    {
      "cell_type": "code",
      "source": [
        "'''Write a python program that remove items that are multiples of 5 from list:li=[1,2,5,6,7,10,15,25,65,78,90]o/p: [1,2,6,7,78]\n",
        "'''\n",
        "li=[1,2,5,6,7,10,15,25,65,78,90]\n",
        "print(list(filter(lambda x:x%5!=0,li)))"
      ],
      "metadata": {
        "colab": {
          "base_uri": "https://localhost:8080/"
        },
        "id": "LlNvttvEvAus",
        "outputId": "4bcfdbc3-5e78-45d1-fa48-7f4a3394205e"
      },
      "execution_count": 28,
      "outputs": [
        {
          "output_type": "stream",
          "name": "stdout",
          "text": [
            "[1, 2, 6, 7, 78]\n"
          ]
        }
      ]
    },
    {
      "cell_type": "code",
      "source": [
        "'''Write a python program that generates desired output from fruits list. Filter out the fruits names that don’t start with ‘A’\n",
        "Fruit=[“Apple”,”Banana”,”Pear”,”Avacado”,”Orange”,”Amla”]\n",
        "Output: [“Apple”,”Avacado”,”Amla”]'''\n",
        "\n",
        "fruit=[\"Apple\",\"Banana\",\"Pear\",\"Avacado\",\"Orange\",\"Amla\"]\n",
        "res=list(filter(lambda x:x.startswith('A'),fruit))\n",
        "print(res)"
      ],
      "metadata": {
        "colab": {
          "base_uri": "https://localhost:8080/"
        },
        "id": "Lh7QUrqUvA3-",
        "outputId": "35a36308-4b69-4b4b-9ef5-ea3332b36def"
      },
      "execution_count": 29,
      "outputs": [
        {
          "output_type": "stream",
          "name": "stdout",
          "text": [
            "['Apple', 'Avacado', 'Amla']\n"
          ]
        }
      ]
    },
    {
      "cell_type": "code",
      "source": [
        "'''Msg=”Welcome to gradstellar bootcamp”\n",
        "X=”number of occurrences of ‘o’ in msg”\n",
        "Y=”number of occurrences of ‘e’ in msg”\n",
        "Compute (X+Y)2'''\n",
        "\n",
        "msg=\"Welcome to gradstellar bootcamp\"\n",
        "x=msg.count('o')\n",
        "y=msg.count('e')\n",
        "print((x+y)**2)"
      ],
      "metadata": {
        "colab": {
          "base_uri": "https://localhost:8080/"
        },
        "id": "RoXjyGZ7v9zz",
        "outputId": "366b2c00-29a5-4225-8e22-5706457a5a77"
      },
      "execution_count": 30,
      "outputs": [
        {
          "output_type": "stream",
          "name": "stdout",
          "text": [
            "49\n"
          ]
        }
      ]
    },
    {
      "cell_type": "code",
      "source": [
        "'''Write python program that filters a list by removing the elements that not start with vowel. \n",
        "I/P: [‘apple’,’orange’,’grapes’,’ball’,’bat’,’umbrella’]\n",
        "O/P: [‘apple’,’orange’,’umbrella’]'''\n",
        "\n",
        "inp=[\"apple\",\"orange\",\"grapes\",\"ball\",\"bat\",\"umbrella\"]\n",
        "print(list(filter(lambda x:x[0] in 'AEIOUaeiou',inp)))"
      ],
      "metadata": {
        "colab": {
          "base_uri": "https://localhost:8080/"
        },
        "id": "jHCtPe40wBrF",
        "outputId": "0a86c749-e1c4-47d8-9e91-f65a8d7769a1"
      },
      "execution_count": 31,
      "outputs": [
        {
          "output_type": "stream",
          "name": "stdout",
          "text": [
            "['apple', 'orange', 'umbrella']\n"
          ]
        }
      ]
    },
    {
      "cell_type": "code",
      "source": [
        "'''Write a python program that displays unique element in a given list using function\n",
        "Li=[56,78,32,45,45,45,19,20]\n",
        "O/P: [56,78,32,45,19,20]'''\n",
        "\n",
        "li=[56,78,32,45,45,45,19,20]\n",
        "print(set(li))"
      ],
      "metadata": {
        "colab": {
          "base_uri": "https://localhost:8080/"
        },
        "id": "BuKWKppbwKSY",
        "outputId": "b2b24585-e2e9-4e4c-9a5f-dce47b4c281d"
      },
      "execution_count": 33,
      "outputs": [
        {
          "output_type": "stream",
          "name": "stdout",
          "text": [
            "{32, 45, 78, 19, 20, 56}\n"
          ]
        }
      ]
    }
  ]
}