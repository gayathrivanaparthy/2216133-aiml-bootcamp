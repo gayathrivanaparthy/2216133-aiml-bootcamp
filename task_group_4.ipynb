{
  "nbformat": 4,
  "nbformat_minor": 0,
  "metadata": {
    "colab": {
      "name": "task group_4.ipynb",
      "provenance": [],
      "authorship_tag": "ABX9TyNxxBhUFPpBnqiJNyeHjFer",
      "include_colab_link": true
    },
    "kernelspec": {
      "name": "python3",
      "display_name": "Python 3"
    },
    "language_info": {
      "name": "python"
    }
  },
  "cells": [
    {
      "cell_type": "markdown",
      "metadata": {
        "id": "view-in-github",
        "colab_type": "text"
      },
      "source": [
        "<a href=\"https://colab.research.google.com/github/gayathrivanaparthy/2216133-aiml-bootcamp/blob/main/task_group_4.ipynb\" target=\"_parent\"><img src=\"https://colab.research.google.com/assets/colab-badge.svg\" alt=\"Open In Colab\"/></a>"
      ]
    },
    {
      "cell_type": "code",
      "execution_count": 1,
      "metadata": {
        "colab": {
          "base_uri": "https://localhost:8080/"
        },
        "id": "TjzVUi4mgJnJ",
        "outputId": "0f7e14bb-881c-4344-edad-7508540ba1b7"
      },
      "outputs": [
        {
          "output_type": "stream",
          "name": "stdout",
          "text": [
            "1 3 5 7 9 "
          ]
        }
      ],
      "source": [
        "#Task Team-4\n",
        "f=open('task.txt','w+')\n",
        "f.write(\"123456789\")\n",
        "f.seek(0)\n",
        "data=f.read()\n",
        "f.close()\n",
        "for i in range(len(data)):\n",
        "    if i%2==0:\n",
        "        print(data[i],end=' ')"
      ]
    }
  ]
}